{
 "cells": [
  {
   "cell_type": "code",
   "execution_count": 4,
   "id": "e60f9683",
   "metadata": {},
   "outputs": [
    {
     "name": "stdout",
     "output_type": "stream",
     "text": [
      "{'BTCUSDT': {'tickSize': 0.1, 'minQty': 0.001, 'stepSize': 0.001}, 'ETHUSDT': {'tickSize': 0.01, 'minQty': 0.001, 'stepSize': 0.001}}\n"
     ]
    }
   ],
   "source": [
    "import requests\n",
    "\n",
    "def get_symbol_filters(symbols=None):\n",
    "    url = \"https://fapi.binance.com/fapi/v1/exchangeInfo\"\n",
    "    response = requests.get(url)\n",
    "    data = response.json()\n",
    "    result = {}\n",
    "\n",
    "    for symbol_info in data[\"symbols\"]:\n",
    "        symbol = symbol_info[\"symbol\"]\n",
    "        if symbols and symbol not in symbols:\n",
    "            continue\n",
    "\n",
    "        filters = {f[\"filterType\"]: f for f in symbol_info[\"filters\"]}\n",
    "        result[symbol] = {\n",
    "            \"tickSize\": float(filters[\"PRICE_FILTER\"][\"tickSize\"]),\n",
    "            \"minQty\": float(filters[\"LOT_SIZE\"][\"minQty\"]),\n",
    "            \"stepSize\": float(filters[\"LOT_SIZE\"][\"stepSize\"]),\n",
    "        }\n",
    "\n",
    "    return result\n",
    "\n",
    "# Example usage\n",
    "filters = get_symbol_filters([\"BTCUSDT\", \"ETHUSDT\"])\n",
    "print(filters)"
   ]
  }
 ],
 "metadata": {
  "kernelspec": {
   "display_name": ".venv",
   "language": "python",
   "name": "python3"
  },
  "language_info": {
   "codemirror_mode": {
    "name": "ipython",
    "version": 3
   },
   "file_extension": ".py",
   "mimetype": "text/x-python",
   "name": "python",
   "nbconvert_exporter": "python",
   "pygments_lexer": "ipython3",
   "version": "3.12.0"
  }
 },
 "nbformat": 4,
 "nbformat_minor": 5
}
